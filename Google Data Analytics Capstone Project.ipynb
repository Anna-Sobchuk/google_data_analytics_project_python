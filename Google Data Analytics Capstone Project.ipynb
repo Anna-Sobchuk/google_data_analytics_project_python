{
 "cells": [
  {
   "cell_type": "markdown",
   "id": "fa2b1f7a",
   "metadata": {},
   "source": [
    "# Google Data Analytics Capstone Project\n",
    "\n",
    "## Cyclistic Bike-Share Analysis\n",
    "\n",
    "### Introduction\n",
    "The bike share analysis case study presented here and brings the real world scenario of the nature of bike riders, i.e.Annual member riders and non-member Casual riders in Chicago. Data for this analysis has been provided by Motivate International Inc. for 692 stations across Chicago and is a part of Course work of Google Data Analytics Certificate This case study is given by Google through E-learning cousera.\n",
    "\n",
    "### Task\n",
    "The marketing team of Cyclistic would like to maximize the number of memberships. With the help of the analysis, we will be able to see trends and be able to present solutions in order to increase memberships for the marketing team.\n",
    "\n",
    "### What is the problem that needs to be solved?\n",
    "To find out how to maximize the number of memberships and suggest recommendations on how to convince casual riders into becoming members.\n",
    "\n",
    "### How can insights drive business decisions?\n",
    "With the help of data on bike riders, we will be able to see the usage of bicycle differences between members and casual riders. This will be done with the help of visualizations and key findings from the data. With the assistance of key findings and data visualizations, recommendations will be made in order to increase memberships.\n",
    "\n"
   ]
  },
  {
   "cell_type": "code",
   "execution_count": 2,
   "id": "38819883",
   "metadata": {},
   "outputs": [],
   "source": [
    "import pandas as pd\n",
    "import numpy as np"
   ]
  },
  {
   "cell_type": "code",
   "execution_count": 18,
   "id": "6bb9a488",
   "metadata": {},
   "outputs": [],
   "source": [
    "df = pd.read_csv('C:\\\\Users\\\\Anna\\\\Downloads\\\\arch\\\\final_tripdata.csv')"
   ]
  },
  {
   "cell_type": "markdown",
   "id": "2f71f120",
   "metadata": {},
   "source": [
    "### have a look at dataset"
   ]
  },
  {
   "cell_type": "code",
   "execution_count": 9,
   "id": "e6ed93dc",
   "metadata": {},
   "outputs": [
    {
     "data": {
      "text/html": [
       "<div>\n",
       "<style scoped>\n",
       "    .dataframe tbody tr th:only-of-type {\n",
       "        vertical-align: middle;\n",
       "    }\n",
       "\n",
       "    .dataframe tbody tr th {\n",
       "        vertical-align: top;\n",
       "    }\n",
       "\n",
       "    .dataframe thead th {\n",
       "        text-align: right;\n",
       "    }\n",
       "</style>\n",
       "<table border=\"1\" class=\"dataframe\">\n",
       "  <thead>\n",
       "    <tr style=\"text-align: right;\">\n",
       "      <th></th>\n",
       "      <th>ride_id</th>\n",
       "      <th>rideable_type</th>\n",
       "      <th>started_at</th>\n",
       "      <th>ended_at</th>\n",
       "      <th>start_station_name</th>\n",
       "      <th>start_station_id</th>\n",
       "      <th>end_station_name</th>\n",
       "      <th>end_station_id</th>\n",
       "      <th>start_lat</th>\n",
       "      <th>start_lng</th>\n",
       "      <th>end_lat</th>\n",
       "      <th>end_lng</th>\n",
       "      <th>member_casual</th>\n",
       "      <th>day_week_start</th>\n",
       "      <th>duration</th>\n",
       "      <th>distance</th>\n",
       "    </tr>\n",
       "  </thead>\n",
       "  <tbody>\n",
       "    <tr>\n",
       "      <th>0</th>\n",
       "      <td>000001004784CD35</td>\n",
       "      <td>docked_bike</td>\n",
       "      <td>2020-07-22 15:38:23</td>\n",
       "      <td>2020-07-22 15:56:47</td>\n",
       "      <td>Wolcott (Ravenswood) Ave &amp; Montrose Ave</td>\n",
       "      <td>238</td>\n",
       "      <td>Southport Ave &amp; Clybourn Ave</td>\n",
       "      <td>307</td>\n",
       "      <td>41.961406</td>\n",
       "      <td>-87.676169</td>\n",
       "      <td>41.920771</td>\n",
       "      <td>-87.663712</td>\n",
       "      <td>casual</td>\n",
       "      <td>4.0</td>\n",
       "      <td>1824.0</td>\n",
       "      <td>42501.53</td>\n",
       "    </tr>\n",
       "    <tr>\n",
       "      <th>1</th>\n",
       "      <td>000002EBE159AE82</td>\n",
       "      <td>electric_bike</td>\n",
       "      <td>2021-06-22 17:25:15</td>\n",
       "      <td>2021-06-22 17:31:34</td>\n",
       "      <td>Clinton St &amp; Jackson Blvd</td>\n",
       "      <td>638</td>\n",
       "      <td>Milwaukee Ave &amp; Grand Ave</td>\n",
       "      <td>13033</td>\n",
       "      <td>41.878261</td>\n",
       "      <td>-87.641155</td>\n",
       "      <td>41.891495</td>\n",
       "      <td>-87.648179</td>\n",
       "      <td>member</td>\n",
       "      <td>3.0</td>\n",
       "      <td>619.0</td>\n",
       "      <td>14982.48</td>\n",
       "    </tr>\n",
       "    <tr>\n",
       "      <th>2</th>\n",
       "      <td>00000550C665101A</td>\n",
       "      <td>docked_bike</td>\n",
       "      <td>2020-06-06 15:20:01</td>\n",
       "      <td>2020-06-06 16:28:09</td>\n",
       "      <td>Sheffield Ave &amp; Waveland Ave</td>\n",
       "      <td>114</td>\n",
       "      <td>Kedzie Ave &amp; Milwaukee Ave</td>\n",
       "      <td>260</td>\n",
       "      <td>41.949399</td>\n",
       "      <td>-87.654529</td>\n",
       "      <td>41.929567</td>\n",
       "      <td>-87.707857</td>\n",
       "      <td>casual</td>\n",
       "      <td>7.0</td>\n",
       "      <td>10808.0</td>\n",
       "      <td>56896.25</td>\n",
       "    </tr>\n",
       "    <tr>\n",
       "      <th>3</th>\n",
       "      <td>0000127970C84F62</td>\n",
       "      <td>docked_bike</td>\n",
       "      <td>2020-05-30 06:36:36</td>\n",
       "      <td>2020-05-30 06:55:28</td>\n",
       "      <td>Green St &amp; Madison St</td>\n",
       "      <td>198</td>\n",
       "      <td>Wells St &amp; Concord Ln</td>\n",
       "      <td>289</td>\n",
       "      <td>41.881900</td>\n",
       "      <td>-87.648800</td>\n",
       "      <td>41.912100</td>\n",
       "      <td>-87.634700</td>\n",
       "      <td>member</td>\n",
       "      <td>7.0</td>\n",
       "      <td>1892.0</td>\n",
       "      <td>33329.42</td>\n",
       "    </tr>\n",
       "    <tr>\n",
       "      <th>4</th>\n",
       "      <td>00001A81D056B01B</td>\n",
       "      <td>classic_bike</td>\n",
       "      <td>2021-04-14 08:10:11</td>\n",
       "      <td>2021-04-14 08:19:14</td>\n",
       "      <td>Wood St &amp; Hubbard St</td>\n",
       "      <td>13432</td>\n",
       "      <td>Morgan St &amp; Lake St</td>\n",
       "      <td>TA1306000015</td>\n",
       "      <td>41.889899</td>\n",
       "      <td>-87.671473</td>\n",
       "      <td>41.885483</td>\n",
       "      <td>-87.652305</td>\n",
       "      <td>member</td>\n",
       "      <td>4.0</td>\n",
       "      <td>903.0</td>\n",
       "      <td>19670.18</td>\n",
       "    </tr>\n",
       "  </tbody>\n",
       "</table>\n",
       "</div>"
      ],
      "text/plain": [
       "            ride_id  rideable_type           started_at             ended_at  \\\n",
       "0  000001004784CD35    docked_bike  2020-07-22 15:38:23  2020-07-22 15:56:47   \n",
       "1  000002EBE159AE82  electric_bike  2021-06-22 17:25:15  2021-06-22 17:31:34   \n",
       "2  00000550C665101A    docked_bike  2020-06-06 15:20:01  2020-06-06 16:28:09   \n",
       "3  0000127970C84F62    docked_bike  2020-05-30 06:36:36  2020-05-30 06:55:28   \n",
       "4  00001A81D056B01B   classic_bike  2021-04-14 08:10:11  2021-04-14 08:19:14   \n",
       "\n",
       "                        start_station_name start_station_id  \\\n",
       "0  Wolcott (Ravenswood) Ave & Montrose Ave              238   \n",
       "1                Clinton St & Jackson Blvd              638   \n",
       "2             Sheffield Ave & Waveland Ave              114   \n",
       "3                    Green St & Madison St              198   \n",
       "4                     Wood St & Hubbard St            13432   \n",
       "\n",
       "               end_station_name end_station_id  start_lat  start_lng  \\\n",
       "0  Southport Ave & Clybourn Ave            307  41.961406 -87.676169   \n",
       "1     Milwaukee Ave & Grand Ave          13033  41.878261 -87.641155   \n",
       "2    Kedzie Ave & Milwaukee Ave            260  41.949399 -87.654529   \n",
       "3         Wells St & Concord Ln            289  41.881900 -87.648800   \n",
       "4           Morgan St & Lake St   TA1306000015  41.889899 -87.671473   \n",
       "\n",
       "     end_lat    end_lng member_casual  day_week_start  duration  distance  \n",
       "0  41.920771 -87.663712        casual             4.0    1824.0  42501.53  \n",
       "1  41.891495 -87.648179        member             3.0     619.0  14982.48  \n",
       "2  41.929567 -87.707857        casual             7.0   10808.0  56896.25  \n",
       "3  41.912100 -87.634700        member             7.0    1892.0  33329.42  \n",
       "4  41.885483 -87.652305        member             4.0     903.0  19670.18  "
      ]
     },
     "execution_count": 9,
     "metadata": {},
     "output_type": "execute_result"
    }
   ],
   "source": [
    "df.head()"
   ]
  },
  {
   "cell_type": "code",
   "execution_count": 15,
   "id": "2d20f591",
   "metadata": {},
   "outputs": [
    {
     "data": {
      "text/plain": [
       "ride_id                object\n",
       "rideable_type          object\n",
       "started_at             object\n",
       "ended_at               object\n",
       "start_station_name     object\n",
       "start_station_id       object\n",
       "end_station_name       object\n",
       "end_station_id         object\n",
       "start_lat             float64\n",
       "start_lng             float64\n",
       "end_lat               float64\n",
       "end_lng               float64\n",
       "member_casual          object\n",
       "day_week_start        float64\n",
       "duration              float64\n",
       "distance              float64\n",
       "dtype: object"
      ]
     },
     "execution_count": 15,
     "metadata": {},
     "output_type": "execute_result"
    }
   ],
   "source": [
    "df.dtypes"
   ]
  },
  {
   "cell_type": "code",
   "execution_count": 17,
   "id": "472e815d",
   "metadata": {},
   "outputs": [
    {
     "data": {
      "text/plain": [
       "(5515094, 16)"
      ]
     },
     "execution_count": 17,
     "metadata": {},
     "output_type": "execute_result"
    }
   ],
   "source": [
    "df.shape"
   ]
  },
  {
   "cell_type": "markdown",
   "id": "d669285d",
   "metadata": {},
   "source": [
    "### clean the data"
   ]
  },
  {
   "cell_type": "code",
   "execution_count": 21,
   "id": "418192e0",
   "metadata": {},
   "outputs": [],
   "source": [
    "#drop if duration negative\n",
    "df.drop(df.index[df['duration'] <= 0], inplace = True)"
   ]
  },
  {
   "cell_type": "code",
   "execution_count": 23,
   "id": "6a77b615",
   "metadata": {},
   "outputs": [],
   "source": [
    "#drop if distance negative\n",
    "df.drop(df.index[df['distance'] <= 0], inplace = True)"
   ]
  },
  {
   "cell_type": "code",
   "execution_count": 25,
   "id": "afbba3a0",
   "metadata": {},
   "outputs": [],
   "source": [
    "df = df.dropna()"
   ]
  },
  {
   "cell_type": "code",
   "execution_count": 28,
   "id": "50d6b216",
   "metadata": {},
   "outputs": [
    {
     "data": {
      "text/html": [
       "<div>\n",
       "<style scoped>\n",
       "    .dataframe tbody tr th:only-of-type {\n",
       "        vertical-align: middle;\n",
       "    }\n",
       "\n",
       "    .dataframe tbody tr th {\n",
       "        vertical-align: top;\n",
       "    }\n",
       "\n",
       "    .dataframe thead th {\n",
       "        text-align: right;\n",
       "    }\n",
       "</style>\n",
       "<table border=\"1\" class=\"dataframe\">\n",
       "  <thead>\n",
       "    <tr style=\"text-align: right;\">\n",
       "      <th></th>\n",
       "      <th>ride_id</th>\n",
       "      <th>rideable_type</th>\n",
       "      <th>started_at</th>\n",
       "      <th>ended_at</th>\n",
       "      <th>start_station_name</th>\n",
       "      <th>start_station_id</th>\n",
       "      <th>end_station_name</th>\n",
       "      <th>end_station_id</th>\n",
       "      <th>start_lat</th>\n",
       "      <th>start_lng</th>\n",
       "      <th>end_lat</th>\n",
       "      <th>end_lng</th>\n",
       "      <th>member_casual</th>\n",
       "      <th>day_week_start</th>\n",
       "      <th>duration</th>\n",
       "      <th>distance</th>\n",
       "    </tr>\n",
       "  </thead>\n",
       "  <tbody>\n",
       "  </tbody>\n",
       "</table>\n",
       "</div>"
      ],
      "text/plain": [
       "Empty DataFrame\n",
       "Columns: [ride_id, rideable_type, started_at, ended_at, start_station_name, start_station_id, end_station_name, end_station_id, start_lat, start_lng, end_lat, end_lng, member_casual, day_week_start, duration, distance]\n",
       "Index: []"
      ]
     },
     "execution_count": 28,
     "metadata": {},
     "output_type": "execute_result"
    }
   ],
   "source": [
    "#check duplicates\n",
    "df[df.duplicated()]"
   ]
  },
  {
   "cell_type": "code",
   "execution_count": 31,
   "id": "6e005e2f",
   "metadata": {},
   "outputs": [],
   "source": [
    "df['day_week_start'].replace({1.0:'sunday',2.0:'monday',3.0:'tuesday',4.0:'wednesday',5.0:'thursday',6.0:'friday',7.0:'saturday'},inplace = True)"
   ]
  },
  {
   "cell_type": "code",
   "execution_count": 33,
   "id": "531297ed",
   "metadata": {},
   "outputs": [
    {
     "data": {
      "text/html": [
       "<div>\n",
       "<style scoped>\n",
       "    .dataframe tbody tr th:only-of-type {\n",
       "        vertical-align: middle;\n",
       "    }\n",
       "\n",
       "    .dataframe tbody tr th {\n",
       "        vertical-align: top;\n",
       "    }\n",
       "\n",
       "    .dataframe thead th {\n",
       "        text-align: right;\n",
       "    }\n",
       "</style>\n",
       "<table border=\"1\" class=\"dataframe\">\n",
       "  <thead>\n",
       "    <tr style=\"text-align: right;\">\n",
       "      <th></th>\n",
       "      <th>ride_id</th>\n",
       "      <th>rideable_type</th>\n",
       "      <th>started_at</th>\n",
       "      <th>ended_at</th>\n",
       "      <th>start_station_name</th>\n",
       "      <th>start_station_id</th>\n",
       "      <th>end_station_name</th>\n",
       "      <th>end_station_id</th>\n",
       "      <th>start_lat</th>\n",
       "      <th>start_lng</th>\n",
       "      <th>end_lat</th>\n",
       "      <th>end_lng</th>\n",
       "      <th>member_casual</th>\n",
       "      <th>day_week_start</th>\n",
       "      <th>duration</th>\n",
       "      <th>distance</th>\n",
       "    </tr>\n",
       "  </thead>\n",
       "  <tbody>\n",
       "    <tr>\n",
       "      <th>0</th>\n",
       "      <td>000001004784CD35</td>\n",
       "      <td>docked_bike</td>\n",
       "      <td>2020-07-22 15:38:23</td>\n",
       "      <td>2020-07-22 15:56:47</td>\n",
       "      <td>Wolcott (Ravenswood) Ave &amp; Montrose Ave</td>\n",
       "      <td>238</td>\n",
       "      <td>Southport Ave &amp; Clybourn Ave</td>\n",
       "      <td>307</td>\n",
       "      <td>41.961406</td>\n",
       "      <td>-87.676169</td>\n",
       "      <td>41.920771</td>\n",
       "      <td>-87.663712</td>\n",
       "      <td>casual</td>\n",
       "      <td>wednesday</td>\n",
       "      <td>1824.0</td>\n",
       "      <td>42501.53</td>\n",
       "    </tr>\n",
       "    <tr>\n",
       "      <th>1</th>\n",
       "      <td>000002EBE159AE82</td>\n",
       "      <td>electric_bike</td>\n",
       "      <td>2021-06-22 17:25:15</td>\n",
       "      <td>2021-06-22 17:31:34</td>\n",
       "      <td>Clinton St &amp; Jackson Blvd</td>\n",
       "      <td>638</td>\n",
       "      <td>Milwaukee Ave &amp; Grand Ave</td>\n",
       "      <td>13033</td>\n",
       "      <td>41.878261</td>\n",
       "      <td>-87.641155</td>\n",
       "      <td>41.891495</td>\n",
       "      <td>-87.648179</td>\n",
       "      <td>member</td>\n",
       "      <td>tuesday</td>\n",
       "      <td>619.0</td>\n",
       "      <td>14982.48</td>\n",
       "    </tr>\n",
       "    <tr>\n",
       "      <th>2</th>\n",
       "      <td>00000550C665101A</td>\n",
       "      <td>docked_bike</td>\n",
       "      <td>2020-06-06 15:20:01</td>\n",
       "      <td>2020-06-06 16:28:09</td>\n",
       "      <td>Sheffield Ave &amp; Waveland Ave</td>\n",
       "      <td>114</td>\n",
       "      <td>Kedzie Ave &amp; Milwaukee Ave</td>\n",
       "      <td>260</td>\n",
       "      <td>41.949399</td>\n",
       "      <td>-87.654529</td>\n",
       "      <td>41.929567</td>\n",
       "      <td>-87.707857</td>\n",
       "      <td>casual</td>\n",
       "      <td>saturday</td>\n",
       "      <td>10808.0</td>\n",
       "      <td>56896.25</td>\n",
       "    </tr>\n",
       "    <tr>\n",
       "      <th>3</th>\n",
       "      <td>0000127970C84F62</td>\n",
       "      <td>docked_bike</td>\n",
       "      <td>2020-05-30 06:36:36</td>\n",
       "      <td>2020-05-30 06:55:28</td>\n",
       "      <td>Green St &amp; Madison St</td>\n",
       "      <td>198</td>\n",
       "      <td>Wells St &amp; Concord Ln</td>\n",
       "      <td>289</td>\n",
       "      <td>41.881900</td>\n",
       "      <td>-87.648800</td>\n",
       "      <td>41.912100</td>\n",
       "      <td>-87.634700</td>\n",
       "      <td>member</td>\n",
       "      <td>saturday</td>\n",
       "      <td>1892.0</td>\n",
       "      <td>33329.42</td>\n",
       "    </tr>\n",
       "    <tr>\n",
       "      <th>4</th>\n",
       "      <td>00001A81D056B01B</td>\n",
       "      <td>classic_bike</td>\n",
       "      <td>2021-04-14 08:10:11</td>\n",
       "      <td>2021-04-14 08:19:14</td>\n",
       "      <td>Wood St &amp; Hubbard St</td>\n",
       "      <td>13432</td>\n",
       "      <td>Morgan St &amp; Lake St</td>\n",
       "      <td>TA1306000015</td>\n",
       "      <td>41.889899</td>\n",
       "      <td>-87.671473</td>\n",
       "      <td>41.885483</td>\n",
       "      <td>-87.652305</td>\n",
       "      <td>member</td>\n",
       "      <td>wednesday</td>\n",
       "      <td>903.0</td>\n",
       "      <td>19670.18</td>\n",
       "    </tr>\n",
       "  </tbody>\n",
       "</table>\n",
       "</div>"
      ],
      "text/plain": [
       "            ride_id  rideable_type           started_at             ended_at  \\\n",
       "0  000001004784CD35    docked_bike  2020-07-22 15:38:23  2020-07-22 15:56:47   \n",
       "1  000002EBE159AE82  electric_bike  2021-06-22 17:25:15  2021-06-22 17:31:34   \n",
       "2  00000550C665101A    docked_bike  2020-06-06 15:20:01  2020-06-06 16:28:09   \n",
       "3  0000127970C84F62    docked_bike  2020-05-30 06:36:36  2020-05-30 06:55:28   \n",
       "4  00001A81D056B01B   classic_bike  2021-04-14 08:10:11  2021-04-14 08:19:14   \n",
       "\n",
       "                        start_station_name start_station_id  \\\n",
       "0  Wolcott (Ravenswood) Ave & Montrose Ave              238   \n",
       "1                Clinton St & Jackson Blvd              638   \n",
       "2             Sheffield Ave & Waveland Ave              114   \n",
       "3                    Green St & Madison St              198   \n",
       "4                     Wood St & Hubbard St            13432   \n",
       "\n",
       "               end_station_name end_station_id  start_lat  start_lng  \\\n",
       "0  Southport Ave & Clybourn Ave            307  41.961406 -87.676169   \n",
       "1     Milwaukee Ave & Grand Ave          13033  41.878261 -87.641155   \n",
       "2    Kedzie Ave & Milwaukee Ave            260  41.949399 -87.654529   \n",
       "3         Wells St & Concord Ln            289  41.881900 -87.648800   \n",
       "4           Morgan St & Lake St   TA1306000015  41.889899 -87.671473   \n",
       "\n",
       "     end_lat    end_lng member_casual day_week_start  duration  distance  \n",
       "0  41.920771 -87.663712        casual      wednesday    1824.0  42501.53  \n",
       "1  41.891495 -87.648179        member        tuesday     619.0  14982.48  \n",
       "2  41.929567 -87.707857        casual       saturday   10808.0  56896.25  \n",
       "3  41.912100 -87.634700        member       saturday    1892.0  33329.42  \n",
       "4  41.885483 -87.652305        member      wednesday     903.0  19670.18  "
      ]
     },
     "execution_count": 33,
     "metadata": {},
     "output_type": "execute_result"
    }
   ],
   "source": [
    "df.head()"
   ]
  },
  {
   "cell_type": "markdown",
   "id": "79d53bfe",
   "metadata": {},
   "source": [
    "### have another look"
   ]
  },
  {
   "cell_type": "code",
   "execution_count": 60,
   "id": "c83807ed",
   "metadata": {},
   "outputs": [],
   "source": [
    "df_member = df\n",
    "df_casual = df\n",
    "df_both = df"
   ]
  },
  {
   "cell_type": "code",
   "execution_count": 66,
   "id": "910f0bce",
   "metadata": {},
   "outputs": [
    {
     "data": {
      "text/html": [
       "<div>\n",
       "<style scoped>\n",
       "    .dataframe tbody tr th:only-of-type {\n",
       "        vertical-align: middle;\n",
       "    }\n",
       "\n",
       "    .dataframe tbody tr th {\n",
       "        vertical-align: top;\n",
       "    }\n",
       "\n",
       "    .dataframe thead th {\n",
       "        text-align: right;\n",
       "    }\n",
       "</style>\n",
       "<table border=\"1\" class=\"dataframe\">\n",
       "  <thead>\n",
       "    <tr style=\"text-align: right;\">\n",
       "      <th></th>\n",
       "      <th>duration</th>\n",
       "      <th>distance</th>\n",
       "    </tr>\n",
       "  </thead>\n",
       "  <tbody>\n",
       "    <tr>\n",
       "      <th>count</th>\n",
       "      <td>4.685565e+06</td>\n",
       "      <td>4.685565e+06</td>\n",
       "    </tr>\n",
       "    <tr>\n",
       "      <th>mean</th>\n",
       "      <td>5.644010e+04</td>\n",
       "      <td>2.369751e+04</td>\n",
       "    </tr>\n",
       "    <tr>\n",
       "      <th>std</th>\n",
       "      <td>1.538609e+07</td>\n",
       "      <td>1.876522e+04</td>\n",
       "    </tr>\n",
       "    <tr>\n",
       "      <th>min</th>\n",
       "      <td>1.000000e+00</td>\n",
       "      <td>1.000000e-02</td>\n",
       "    </tr>\n",
       "    <tr>\n",
       "      <th>25%</th>\n",
       "      <td>8.020000e+02</td>\n",
       "      <td>1.074132e+04</td>\n",
       "    </tr>\n",
       "    <tr>\n",
       "      <th>50%</th>\n",
       "      <td>1.586000e+03</td>\n",
       "      <td>1.844213e+04</td>\n",
       "    </tr>\n",
       "    <tr>\n",
       "      <th>75%</th>\n",
       "      <td>5.121000e+03</td>\n",
       "      <td>3.146654e+04</td>\n",
       "    </tr>\n",
       "    <tr>\n",
       "      <th>max</th>\n",
       "      <td>8.875942e+09</td>\n",
       "      <td>4.494231e+05</td>\n",
       "    </tr>\n",
       "  </tbody>\n",
       "</table>\n",
       "</div>"
      ],
      "text/plain": [
       "           duration      distance\n",
       "count  4.685565e+06  4.685565e+06\n",
       "mean   5.644010e+04  2.369751e+04\n",
       "std    1.538609e+07  1.876522e+04\n",
       "min    1.000000e+00  1.000000e-02\n",
       "25%    8.020000e+02  1.074132e+04\n",
       "50%    1.586000e+03  1.844213e+04\n",
       "75%    5.121000e+03  3.146654e+04\n",
       "max    8.875942e+09  4.494231e+05"
      ]
     },
     "execution_count": 66,
     "metadata": {},
     "output_type": "execute_result"
    }
   ],
   "source": [
    "df.describe()"
   ]
  },
  {
   "cell_type": "code",
   "execution_count": 68,
   "id": "d743e85f",
   "metadata": {},
   "outputs": [
    {
     "data": {
      "text/plain": [
       "member    2917439\n",
       "casual    1768126\n",
       "Name: member_casual, dtype: int64"
      ]
     },
     "execution_count": 68,
     "metadata": {},
     "output_type": "execute_result"
    }
   ],
   "source": [
    "df['member_casual'].value_counts()"
   ]
  },
  {
   "cell_type": "code",
   "execution_count": 70,
   "id": "3f8cd925",
   "metadata": {},
   "outputs": [],
   "source": [
    "#we have 62.26% members and 37.74% casual riders"
   ]
  },
  {
   "cell_type": "code",
   "execution_count": 72,
   "id": "c16b4bc5",
   "metadata": {},
   "outputs": [
    {
     "data": {
      "text/plain": [
       "23697.507581012313"
      ]
     },
     "execution_count": 72,
     "metadata": {},
     "output_type": "execute_result"
    }
   ],
   "source": [
    "df['distance'].mean()"
   ]
  },
  {
   "cell_type": "code",
   "execution_count": 74,
   "id": "4e5dffaa",
   "metadata": {},
   "outputs": [
    {
     "data": {
      "text/plain": [
       "449423.09"
      ]
     },
     "execution_count": 74,
     "metadata": {},
     "output_type": "execute_result"
    }
   ],
   "source": [
    "df['distance'].max()"
   ]
  },
  {
   "cell_type": "code",
   "execution_count": 76,
   "id": "c0b30598",
   "metadata": {},
   "outputs": [
    {
     "data": {
      "text/plain": [
       "0    saturday\n",
       "Name: day_week_start, dtype: object"
      ]
     },
     "execution_count": 76,
     "metadata": {},
     "output_type": "execute_result"
    }
   ],
   "source": [
    "df['day_week_start'].mode()"
   ]
  },
  {
   "cell_type": "markdown",
   "id": "86e70731",
   "metadata": {},
   "source": [
    "### look at station, day and bike preferance"
   ]
  },
  {
   "cell_type": "code",
   "execution_count": 78,
   "id": "7cb09e3e",
   "metadata": {},
   "outputs": [
    {
     "data": {
      "text/plain": [
       "Streeter Dr & Grand Ave            53336\n",
       "Clark St & Elm St                  43893\n",
       "Lake Shore Dr & North Blvd         38252\n",
       "Lake Shore Dr & Monroe St          38184\n",
       "Wells St & Concord Ln              37816\n",
       "                                   ...  \n",
       "Stewart Ave & 63rd St (*)              3\n",
       "HQ QR                                  1\n",
       "N Clark St & W Elm St                  1\n",
       "N Hampden Ct & W Diversey Ave          1\n",
       "Lyft Driver Center Private Rack        1\n",
       "Name: start_station_name, Length: 715, dtype: int64"
      ]
     },
     "execution_count": 78,
     "metadata": {},
     "output_type": "execute_result"
    }
   ],
   "source": [
    "df['start_station_name'].value_counts()"
   ]
  },
  {
   "cell_type": "code",
   "execution_count": 82,
   "id": "b45d3180",
   "metadata": {},
   "outputs": [],
   "source": [
    "#Streeter Dr & Grand Ave  is the most popular station to start trip"
   ]
  },
  {
   "cell_type": "code",
   "execution_count": 83,
   "id": "622d79cc",
   "metadata": {},
   "outputs": [
    {
     "data": {
      "text/plain": [
       "Streeter Dr & Grand Ave          56545\n",
       "Clark St & Elm St                43956\n",
       "Lake Shore Dr & North Blvd       40798\n",
       "Theater on the Lake              39712\n",
       "Wells St & Concord Ln            38637\n",
       "                                 ...  \n",
       "N Clark St & W Elm St                2\n",
       "N Damen Ave & W Wabansia St          2\n",
       "Avenue L & 114th St                  1\n",
       "HQ QR                                1\n",
       "N Hampden Ct & W Diversey Ave        1\n",
       "Name: end_station_name, Length: 716, dtype: int64"
      ]
     },
     "execution_count": 83,
     "metadata": {},
     "output_type": "execute_result"
    }
   ],
   "source": [
    "df['end_station_name'].value_counts()"
   ]
  },
  {
   "cell_type": "code",
   "execution_count": 85,
   "id": "77680b57",
   "metadata": {},
   "outputs": [],
   "source": [
    "#Streeter Dr & Grand Ave  is the most popular station to finish trip"
   ]
  },
  {
   "cell_type": "code",
   "execution_count": 88,
   "id": "f60ce0ba",
   "metadata": {},
   "outputs": [
    {
     "data": {
      "text/plain": [
       "docked_bike      2776356\n",
       "classic_bike     1205865\n",
       "electric_bike     703344\n",
       "Name: rideable_type, dtype: int64"
      ]
     },
     "execution_count": 88,
     "metadata": {},
     "output_type": "execute_result"
    }
   ],
   "source": [
    "df['rideable_type'].value_counts()"
   ]
  },
  {
   "cell_type": "code",
   "execution_count": 89,
   "id": "2a6eeaaf",
   "metadata": {},
   "outputs": [],
   "source": [
    "#docked_bike is the most popular bike type"
   ]
  },
  {
   "cell_type": "code",
   "execution_count": 91,
   "id": "60e20138",
   "metadata": {},
   "outputs": [
    {
     "data": {
      "text/plain": [
       "saturday     833136\n",
       "sunday       706254\n",
       "friday       686002\n",
       "wednesday    641247\n",
       "thursday     621602\n",
       "tuesday      615493\n",
       "monday       581831\n",
       "Name: day_week_start, dtype: int64"
      ]
     },
     "execution_count": 91,
     "metadata": {},
     "output_type": "execute_result"
    }
   ],
   "source": [
    "df['day_week_start'].value_counts()"
   ]
  },
  {
   "cell_type": "code",
   "execution_count": 93,
   "id": "cb0c1b71",
   "metadata": {},
   "outputs": [],
   "source": [
    "#saturday is the most popular day of the week"
   ]
  },
  {
   "cell_type": "markdown",
   "id": "506cdd80",
   "metadata": {},
   "source": [
    "### separate riders for casual and members"
   ]
  },
  {
   "cell_type": "code",
   "execution_count": 95,
   "id": "3f36f884",
   "metadata": {},
   "outputs": [],
   "source": [
    "df_member = df[df['member_casual'] == 'member']"
   ]
  },
  {
   "cell_type": "code",
   "execution_count": 98,
   "id": "4785fddb",
   "metadata": {},
   "outputs": [],
   "source": [
    "df_casual = df[df['member_casual'] == 'casual']"
   ]
  },
  {
   "cell_type": "code",
   "execution_count": 100,
   "id": "4a71cb89",
   "metadata": {},
   "outputs": [
    {
     "data": {
      "text/plain": [
       "22985.715532450624"
      ]
     },
     "execution_count": 100,
     "metadata": {},
     "output_type": "execute_result"
    }
   ],
   "source": [
    "df_member['distance'].mean()"
   ]
  },
  {
   "cell_type": "code",
   "execution_count": 102,
   "id": "e9202aaa",
   "metadata": {},
   "outputs": [
    {
     "data": {
      "text/html": [
       "<div>\n",
       "<style scoped>\n",
       "    .dataframe tbody tr th:only-of-type {\n",
       "        vertical-align: middle;\n",
       "    }\n",
       "\n",
       "    .dataframe tbody tr th {\n",
       "        vertical-align: top;\n",
       "    }\n",
       "\n",
       "    .dataframe thead th {\n",
       "        text-align: right;\n",
       "    }\n",
       "</style>\n",
       "<table border=\"1\" class=\"dataframe\">\n",
       "  <thead>\n",
       "    <tr style=\"text-align: right;\">\n",
       "      <th></th>\n",
       "      <th>duration</th>\n",
       "      <th>distance</th>\n",
       "    </tr>\n",
       "  </thead>\n",
       "  <tbody>\n",
       "    <tr>\n",
       "      <th>count</th>\n",
       "      <td>2.917439e+06</td>\n",
       "      <td>2.917439e+06</td>\n",
       "    </tr>\n",
       "    <tr>\n",
       "      <th>mean</th>\n",
       "      <td>2.552066e+04</td>\n",
       "      <td>2.298572e+04</td>\n",
       "    </tr>\n",
       "    <tr>\n",
       "      <th>std</th>\n",
       "      <td>1.163140e+07</td>\n",
       "      <td>1.781781e+04</td>\n",
       "    </tr>\n",
       "    <tr>\n",
       "      <th>min</th>\n",
       "      <td>1.000000e+00</td>\n",
       "      <td>1.000000e-02</td>\n",
       "    </tr>\n",
       "    <tr>\n",
       "      <th>25%</th>\n",
       "      <td>6.750000e+02</td>\n",
       "      <td>1.037690e+04</td>\n",
       "    </tr>\n",
       "    <tr>\n",
       "      <th>50%</th>\n",
       "      <td>1.224000e+03</td>\n",
       "      <td>1.777553e+04</td>\n",
       "    </tr>\n",
       "    <tr>\n",
       "      <th>75%</th>\n",
       "      <td>3.271000e+03</td>\n",
       "      <td>3.051190e+04</td>\n",
       "    </tr>\n",
       "    <tr>\n",
       "      <th>max</th>\n",
       "      <td>8.869776e+09</td>\n",
       "      <td>4.494231e+05</td>\n",
       "    </tr>\n",
       "  </tbody>\n",
       "</table>\n",
       "</div>"
      ],
      "text/plain": [
       "           duration      distance\n",
       "count  2.917439e+06  2.917439e+06\n",
       "mean   2.552066e+04  2.298572e+04\n",
       "std    1.163140e+07  1.781781e+04\n",
       "min    1.000000e+00  1.000000e-02\n",
       "25%    6.750000e+02  1.037690e+04\n",
       "50%    1.224000e+03  1.777553e+04\n",
       "75%    3.271000e+03  3.051190e+04\n",
       "max    8.869776e+09  4.494231e+05"
      ]
     },
     "execution_count": 102,
     "metadata": {},
     "output_type": "execute_result"
    }
   ],
   "source": [
    "df_member.describe()"
   ]
  },
  {
   "cell_type": "code",
   "execution_count": 104,
   "id": "ea79f776",
   "metadata": {},
   "outputs": [
    {
     "data": {
      "text/html": [
       "<div>\n",
       "<style scoped>\n",
       "    .dataframe tbody tr th:only-of-type {\n",
       "        vertical-align: middle;\n",
       "    }\n",
       "\n",
       "    .dataframe tbody tr th {\n",
       "        vertical-align: top;\n",
       "    }\n",
       "\n",
       "    .dataframe thead th {\n",
       "        text-align: right;\n",
       "    }\n",
       "</style>\n",
       "<table border=\"1\" class=\"dataframe\">\n",
       "  <thead>\n",
       "    <tr style=\"text-align: right;\">\n",
       "      <th></th>\n",
       "      <th>duration</th>\n",
       "      <th>distance</th>\n",
       "    </tr>\n",
       "  </thead>\n",
       "  <tbody>\n",
       "    <tr>\n",
       "      <th>count</th>\n",
       "      <td>1.768126e+06</td>\n",
       "      <td>1.768126e+06</td>\n",
       "    </tr>\n",
       "    <tr>\n",
       "      <th>mean</th>\n",
       "      <td>1.074577e+05</td>\n",
       "      <td>2.487198e+04</td>\n",
       "    </tr>\n",
       "    <tr>\n",
       "      <th>std</th>\n",
       "      <td>2.010248e+07</td>\n",
       "      <td>2.017689e+04</td>\n",
       "    </tr>\n",
       "    <tr>\n",
       "      <th>min</th>\n",
       "      <td>1.000000e+00</td>\n",
       "      <td>1.000000e-02</td>\n",
       "    </tr>\n",
       "    <tr>\n",
       "      <th>25%</th>\n",
       "      <td>1.196000e+03</td>\n",
       "      <td>1.149538e+04</td>\n",
       "    </tr>\n",
       "    <tr>\n",
       "      <th>50%</th>\n",
       "      <td>2.543000e+03</td>\n",
       "      <td>1.971238e+04</td>\n",
       "    </tr>\n",
       "    <tr>\n",
       "      <th>75%</th>\n",
       "      <td>6.790000e+03</td>\n",
       "      <td>3.296709e+04</td>\n",
       "    </tr>\n",
       "    <tr>\n",
       "      <th>max</th>\n",
       "      <td>8.875942e+09</td>\n",
       "      <td>3.042953e+05</td>\n",
       "    </tr>\n",
       "  </tbody>\n",
       "</table>\n",
       "</div>"
      ],
      "text/plain": [
       "           duration      distance\n",
       "count  1.768126e+06  1.768126e+06\n",
       "mean   1.074577e+05  2.487198e+04\n",
       "std    2.010248e+07  2.017689e+04\n",
       "min    1.000000e+00  1.000000e-02\n",
       "25%    1.196000e+03  1.149538e+04\n",
       "50%    2.543000e+03  1.971238e+04\n",
       "75%    6.790000e+03  3.296709e+04\n",
       "max    8.875942e+09  3.042953e+05"
      ]
     },
     "execution_count": 104,
     "metadata": {},
     "output_type": "execute_result"
    }
   ],
   "source": [
    "df_casual.describe()"
   ]
  },
  {
   "cell_type": "code",
   "execution_count": 108,
   "id": "d03dc425",
   "metadata": {},
   "outputs": [
    {
     "data": {
      "text/plain": [
       "docked_bike      1727733\n",
       "classic_bike      792599\n",
       "electric_bike     397107\n",
       "Name: rideable_type, dtype: int64"
      ]
     },
     "execution_count": 108,
     "metadata": {},
     "output_type": "execute_result"
    }
   ],
   "source": [
    "df_member['rideable_type'].value_counts()"
   ]
  },
  {
   "cell_type": "code",
   "execution_count": 110,
   "id": "d5955fc6",
   "metadata": {},
   "outputs": [
    {
     "data": {
      "text/plain": [
       "docked_bike      1048623\n",
       "classic_bike      413266\n",
       "electric_bike     306237\n",
       "Name: rideable_type, dtype: int64"
      ]
     },
     "execution_count": 110,
     "metadata": {},
     "output_type": "execute_result"
    }
   ],
   "source": [
    "df_casual['rideable_type'].value_counts()"
   ]
  },
  {
   "cell_type": "code",
   "execution_count": 114,
   "id": "ddfaad96",
   "metadata": {},
   "outputs": [
    {
     "data": {
      "text/plain": [
       "Clark St & Elm St                  28492\n",
       "Kingsbury St & Kinzie St           24650\n",
       "Wells St & Concord Ln              23030\n",
       "Dearborn St & Erie St              22423\n",
       "St. Clair St & Erie St             22228\n",
       "                                   ...  \n",
       "Avenue O & 118th St                    1\n",
       "Vernon Ave & 107th St                  1\n",
       "Elizabeth St & 92nd St                 1\n",
       "Ashland Ave & 73rd St                  1\n",
       "Lyft Driver Center Private Rack        1\n",
       "Name: start_station_name, Length: 706, dtype: int64"
      ]
     },
     "execution_count": 114,
     "metadata": {},
     "output_type": "execute_result"
    }
   ],
   "source": [
    "df_member['start_station_name'].value_counts()\n",
    "#station mostly used to start trip by Annual members"
   ]
  },
  {
   "cell_type": "code",
   "execution_count": 116,
   "id": "ae5ed2cd",
   "metadata": {},
   "outputs": [
    {
     "data": {
      "text/plain": [
       "Streeter Dr & Grand Ave       39555\n",
       "Millennium Park               26701\n",
       "Lake Shore Dr & Monroe St     25950\n",
       "Michigan Ave & Oak St         20887\n",
       "Lake Shore Dr & North Blvd    19380\n",
       "                              ...  \n",
       "Hampden Ct & Diversey Ave         3\n",
       "W 103rd St & S Avers Ave          3\n",
       "HQ QR                             1\n",
       "N Clark St & W Elm St             1\n",
       "Stewart Ave & 63rd St (*)         1\n",
       "Name: start_station_name, Length: 712, dtype: int64"
      ]
     },
     "execution_count": 116,
     "metadata": {},
     "output_type": "execute_result"
    }
   ],
   "source": [
    "df_casual['start_station_name'].value_counts()\n",
    "#station mostly used to start trip by Casual riders"
   ]
  },
  {
   "cell_type": "code",
   "execution_count": 118,
   "id": "92158d4d",
   "metadata": {},
   "outputs": [
    {
     "data": {
      "text/plain": [
       "Clark St & Elm St           29235\n",
       "Kingsbury St & Kinzie St    24892\n",
       "St. Clair St & Erie St      23893\n",
       "Wells St & Concord Ln       23554\n",
       "Dearborn St & Erie St       23346\n",
       "                            ...  \n",
       "Ashland Ave & 73rd St           1\n",
       "Yates Blvd & 93rd St            1\n",
       "N Clark St & W Elm St           1\n",
       "Avenue O & 134th St             1\n",
       "Loomis St & 89th St             1\n",
       "Name: end_station_name, Length: 709, dtype: int64"
      ]
     },
     "execution_count": 118,
     "metadata": {},
     "output_type": "execute_result"
    }
   ],
   "source": [
    "df_member['end_station_name'].value_counts()\n",
    "#station ended by most Annual riders"
   ]
  },
  {
   "cell_type": "code",
   "execution_count": 120,
   "id": "6b6969b2",
   "metadata": {},
   "outputs": [
    {
     "data": {
      "text/plain": [
       "Streeter Dr & Grand Ave                             43370\n",
       "Millennium Park                                     28405\n",
       "Lake Shore Dr & Monroe St                           24336\n",
       "Lake Shore Dr & North Blvd                          22059\n",
       "Michigan Ave & Oak St                               22038\n",
       "                                                    ...  \n",
       "Woodlawn & 103rd - Olive Harvey Vaccination Site        3\n",
       "Eggleston Ave & 69th St (*)                             2\n",
       "Avenue L & 114th St                                     1\n",
       "N Clark St & W Elm St                                   1\n",
       "N Hampden Ct & W Diversey Ave                           1\n",
       "Name: end_station_name, Length: 714, dtype: int64"
      ]
     },
     "execution_count": 120,
     "metadata": {},
     "output_type": "execute_result"
    }
   ],
   "source": [
    "df_casual['end_station_name'].value_counts()\n",
    "#station ended by most Casual riders"
   ]
  },
  {
   "cell_type": "code",
   "execution_count": 122,
   "id": "9009d4d6",
   "metadata": {},
   "outputs": [
    {
     "data": {
      "text/plain": [
       "wednesday    447619\n",
       "tuesday      431542\n",
       "friday       430723\n",
       "thursday     426599\n",
       "saturday     419125\n",
       "monday       396422\n",
       "sunday       365409\n",
       "Name: day_week_start, dtype: int64"
      ]
     },
     "execution_count": 122,
     "metadata": {},
     "output_type": "execute_result"
    }
   ],
   "source": [
    "df_member['day_week_start'].value_counts()\n",
    "#Annual members preferable week days"
   ]
  },
  {
   "cell_type": "code",
   "execution_count": 124,
   "id": "99326b72",
   "metadata": {},
   "outputs": [
    {
     "data": {
      "text/plain": [
       "saturday     414011\n",
       "sunday       340845\n",
       "friday       255279\n",
       "thursday     195003\n",
       "wednesday    193628\n",
       "monday       185409\n",
       "tuesday      183951\n",
       "Name: day_week_start, dtype: int64"
      ]
     },
     "execution_count": 124,
     "metadata": {},
     "output_type": "execute_result"
    }
   ],
   "source": [
    "df_casual['day_week_start'].value_counts()\n",
    "#Annual members preferable week days"
   ]
  },
  {
   "cell_type": "code",
   "execution_count": 182,
   "id": "492f85cf",
   "metadata": {},
   "outputs": [
    {
     "data": {
      "text/plain": [
       "day_week_start\n",
       "friday       255279\n",
       "monday       185409\n",
       "saturday     414011\n",
       "sunday       340845\n",
       "thursday     195003\n",
       "tuesday      183951\n",
       "wednesday    193628\n",
       "Name: ride_id, dtype: int64"
      ]
     },
     "execution_count": 182,
     "metadata": {},
     "output_type": "execute_result"
    }
   ],
   "source": [
    "casual_rides_per_day = df[df['member_casual'] == 'casual'].groupby('day_week_start')['ride_id'].count()\n",
    "casual_rides_per_day"
   ]
  },
  {
   "cell_type": "code",
   "execution_count": 179,
   "id": "8b4242c7",
   "metadata": {},
   "outputs": [
    {
     "data": {
      "text/plain": [
       "day_week_start\n",
       "friday       430723\n",
       "monday       396422\n",
       "saturday     419125\n",
       "sunday       365409\n",
       "thursday     426599\n",
       "tuesday      431542\n",
       "wednesday    447619\n",
       "Name: ride_id, dtype: int64"
      ]
     },
     "execution_count": 179,
     "metadata": {},
     "output_type": "execute_result"
    }
   ],
   "source": [
    "member_rides_per_day = df[df['member_casual'] == 'member'].groupby('day_week_start')['ride_id'].count()\n",
    "member_rides_per_day"
   ]
  },
  {
   "cell_type": "markdown",
   "id": "6be61be2",
   "metadata": {},
   "source": [
    "### have a look at length of ride"
   ]
  },
  {
   "cell_type": "code",
   "execution_count": 156,
   "id": "5e009510",
   "metadata": {},
   "outputs": [],
   "source": [
    "df[\"started_at\"] = pd.to_datetime(df[\"started_at\"])\n",
    "df[\"ended_at\"] = pd.to_datetime(df[\"ended_at\"])"
   ]
  },
  {
   "cell_type": "code",
   "execution_count": 158,
   "id": "bbc8f01e",
   "metadata": {},
   "outputs": [],
   "source": [
    "# calculating the ride length \n",
    "df[\"ride_length\"] = df[\"ended_at\"] - df[\"started_at\"]"
   ]
  },
  {
   "cell_type": "code",
   "execution_count": 160,
   "id": "5704c95f",
   "metadata": {},
   "outputs": [
    {
     "data": {
      "text/plain": [
       "Timedelta('0 days 00:41:08.603157806')"
      ]
     },
     "execution_count": 160,
     "metadata": {},
     "output_type": "execute_result"
    }
   ],
   "source": [
    "#mean length for casual\n",
    "df_casual = df[df['member_casual'] == 'casual']\n",
    "df_casual_mean = df_casual['ride_length'].mean()\n",
    "df_casual_mean"
   ]
  },
  {
   "cell_type": "code",
   "execution_count": 162,
   "id": "05e73a8f",
   "metadata": {},
   "outputs": [
    {
     "data": {
      "text/plain": [
       "Timedelta('0 days 00:14:55.208252511')"
      ]
     },
     "execution_count": 162,
     "metadata": {},
     "output_type": "execute_result"
    }
   ],
   "source": [
    "#mean length for annual\n",
    "df_member = df[df['member_casual'] == 'member']\n",
    "df_member_mean = df_member['ride_length'].mean()\n",
    "df_member_mean"
   ]
  },
  {
   "cell_type": "markdown",
   "id": "8fe74379",
   "metadata": {},
   "source": [
    "### Summary of trends observed\n",
    "* Least used bikes are electric bikes\n",
    "* There are more members than non-members (casual riders)\n",
    "* Saturday has the most amount of riders\n",
    "* Most casual riders ride on Saturday while most members ride on Wednesday\n",
    "* Preferable stations to start trips don't differ for casual and members\n",
    "* Duration of time length between casual riders (14 min., 55 sec.) and members (41 min., 08 sec.) are very different"
   ]
  },
  {
   "cell_type": "markdown",
   "id": "52aaa203",
   "metadata": {},
   "source": [
    "### share the results"
   ]
  },
  {
   "cell_type": "code",
   "execution_count": 168,
   "id": "ef3dc0b2",
   "metadata": {},
   "outputs": [],
   "source": [
    "import matplotlib.pyplot as plt\n",
    "import seaborn as sns"
   ]
  },
  {
   "cell_type": "markdown",
   "id": "02dbcdd9",
   "metadata": {},
   "source": [
    "### a breakdown of the type of bikes used."
   ]
  },
  {
   "cell_type": "code",
   "execution_count": 169,
   "id": "c372e821",
   "metadata": {},
   "outputs": [
    {
     "data": {
      "image/png": "[encoded data removed]",
      "text/plain": [
       "<Figure size 720x576 with 1 Axes>"
      ]
     },
     "metadata": {
      "needs_background": "light"
     },
     "output_type": "display_data"
    }
   ],
   "source": [
    "#which type of bike every member type uses\n",
    "plt.figure(figsize=(10,8))\n",
    "plt.title('bikes for members and casual riders')\n",
    "sns.countplot(x='member_casual', hue='rideable_type', palette='ch:s=.25,rot=-.25', data=df)\n",
    "plt.ticklabel_format(axis='y')"
   ]
  },
  {
   "cell_type": "markdown",
   "id": "2a17c206",
   "metadata": {},
   "source": [
    "### A visual comparison between members and casual riders."
   ]
  },
  {
   "cell_type": "code",
   "execution_count": 172,
   "id": "ea0c6a2e",
   "metadata": {},
   "outputs": [
    {
     "data": {
      "text/plain": [
       "member    2917439\n",
       "casual    1768126\n",
       "Name: member_casual, dtype: int64"
      ]
     },
     "execution_count": 172,
     "metadata": {},
     "output_type": "execute_result"
    }
   ],
   "source": [
    "member_type = df['member_casual'].value_counts()\n",
    "member_type"
   ]
  },
  {
   "cell_type": "code",
   "execution_count": 174,
   "id": "28a744cd",
   "metadata": {},
   "outputs": [
    {
     "data": {
      "image/png": "[encoded data removed]",
      "text/plain": [
       "<Figure size 720x576 with 1 Axes>"
      ]
     },
     "metadata": {
      "needs_background": "light"
     },
     "output_type": "display_data"
    }
   ],
   "source": [
    "plt.figure(figsize=(10,8))\n",
    "plt.title(\"Number of users: member and casual\")\n",
    "plt.bar(member_type.index, member_type.values)\n",
    "plt.ticklabel_format(axis='y')"
   ]
  },
  {
   "cell_type": "markdown",
   "id": "7afb2153",
   "metadata": {},
   "source": [
    "### A line plot comparing members and casual riders for each day of the week."
   ]
  },
  {
   "cell_type": "code",
   "execution_count": 184,
   "id": "1fa554b4",
   "metadata": {},
   "outputs": [
    {
     "data": {
      "image/png": "[encoded data removed]",
      "text/plain": [
       "<Figure size 720x576 with 1 Axes>"
      ]
     },
     "metadata": {
      "needs_background": "light"
     },
     "output_type": "display_data"
    }
   ],
   "source": [
    "plt.figure(figsize=(10,8))\n",
    "plt.plot(member_rides_per_day)\n",
    "plt.plot(casual_rides_per_day)\n",
    "plt.title(\"Comparing members and casual riders\")\n",
    "plt.legend(['member','casual'])\n",
    "labels=[('day_of_week')]\n",
    "plt.xticks(member_rides_per_day.index)\n",
    "plt.show()"
   ]
  },
  {
   "cell_type": "markdown",
   "id": "238602e0",
   "metadata": {},
   "source": [
    "### A visual plot for all riders for each month."
   ]
  },
  {
   "cell_type": "code",
   "execution_count": 187,
   "id": "2d800a9b",
   "metadata": {},
   "outputs": [
    {
     "data": {
      "text/plain": [
       "<AxesSubplot:xlabel='member_casual', ylabel='count'>"
      ]
     },
     "execution_count": 187,
     "metadata": {},
     "output_type": "execute_result"
    },
    {
     "data": {
      "image/png": "[encoded data removed]",
      "text/plain": [
       "<Figure size 720x576 with 1 Axes>"
      ]
     },
     "metadata": {
      "needs_background": "light"
     },
     "output_type": "display_data"
    }
   ],
   "source": [
    "plt.figure(figsize=(10,8))\n",
    "\n",
    "sns.countplot(x='member_casual', hue='month', palette='ch:s=.25,rot=-.25', data=df)"
   ]
  },
  {
   "cell_type": "markdown",
   "id": "55340491",
   "metadata": {},
   "source": [
    "### Act\n",
    "Based on the analysis, there are more casual riders than membership holders. As a company we can entice casual users on Fridays to sign up for discounted memberships at least for the first year. According to the data, our membership capture rate potential is best done on Fridays and can be flexible through the weekend.\n",
    "\n",
    "With the expected increase of ridership on weekends, there would need to be a bigger supply of bikes during the weekends.\n",
    "\n",
    "With responsible use of funds, more electric bikes can be introduced for the public.\n",
    "\n",
    "One way to incentivize current members is a referral program where there can be a points system that can be redeemed in the future for discounted rates on membership.\n",
    "\n",
    "For casual users who use our service for more miles, we can incentivize by discounting rates of membership. We recommend to incentivize new members for rewards on bike use during weekdays.\n",
    "\n",
    "Marketing department can assist in promotions for converting casual riders into members for bicycle use during weekdays.\n",
    "\n",
    "Memberships can be completed quickly and downloaded on the phone for casual riders. This way, new members will be able to use the bike immediately."
   ]
  }
 ],
 "metadata": {
  "kernelspec": {
   "display_name": "Python 3 (ipykernel)",
   "language": "python",
   "name": "python3"
  },
  "language_info": {
   "codemirror_mode": {
    "name": "ipython",
    "version": 3
   },
   "file_extension": ".py",
   "mimetype": "text/x-python",
   "name": "python",
   "nbconvert_exporter": "python",
   "pygments_lexer": "ipython3",
   "version": "3.9.12"
  }
 },
 "nbformat": 4,
 "nbformat_minor": 5
}
